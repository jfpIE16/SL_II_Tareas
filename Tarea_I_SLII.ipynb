{
  "nbformat": 4,
  "nbformat_minor": 0,
  "metadata": {
    "colab": {
      "name": "Tarea-I-SLII.ipynb",
      "provenance": [],
      "collapsed_sections": [],
      "mount_file_id": "1um6frzl6ItTUrHn6tyIYr1I4BbBRYXm1",
      "authorship_tag": "ABX9TyMOOTkVqMgt4V6cVzkbpjfh",
      "include_colab_link": true
    },
    "kernelspec": {
      "name": "python3",
      "display_name": "Python 3"
    }
  },
  "cells": [
    {
      "cell_type": "markdown",
      "metadata": {
        "id": "view-in-github",
        "colab_type": "text"
      },
      "source": [
        "<a href=\"https://colab.research.google.com/github/jfpIE16/SL_II_Tareas/blob/master/Tarea_I_SLII.ipynb\" target=\"_parent\"><img src=\"https://colab.research.google.com/assets/colab-badge.svg\" alt=\"Open In Colab\"/></a>"
      ]
    },
    {
      "cell_type": "markdown",
      "metadata": {
        "id": "7qIIF8hmtxd3",
        "colab_type": "text"
      },
      "source": [
        "# Statistical Learning II\n",
        "## Tarea 1: Clustering y Detección de Anomalias\n",
        "José Fernando Pérez Pérez\n",
        "---\n",
        "josefernando.perez@galileo.edu\n"
      ]
    },
    {
      "cell_type": "code",
      "metadata": {
        "id": "OCCp0pKHtre7",
        "colab_type": "code",
        "colab": {}
      },
      "source": [
        "# Importamos las librerías necesarias\n",
        "%matplotlib inline\n",
        "import matplotlib.pyplot as plt\n",
        "import numpy as np\n",
        "import pandas as pd\n",
        "from scipy.spatial.distance import cdist\n",
        "from copy import deepcopy\n",
        "plt.ion()"
      ],
      "execution_count": 1,
      "outputs": []
    },
    {
      "cell_type": "markdown",
      "metadata": {
        "id": "r1WOEdMEvl8F",
        "colab_type": "text"
      },
      "source": [
        "Definimos los datos de entrenamiento"
      ]
    },
    {
      "cell_type": "code",
      "metadata": {
        "id": "6yg1yb-NuVwv",
        "colab_type": "code",
        "colab": {
          "base_uri": "https://localhost:8080/",
          "height": 198
        },
        "outputId": "1ca37e79-9702-4922-bf88-18aa9d2e9667"
      },
      "source": [
        "df = pd.read_excel('/content/drive/My Drive/Estaturas.xlsx', sheet_name=0, index_col=False)\n",
        "df.head()"
      ],
      "execution_count": 2,
      "outputs": [
        {
          "output_type": "execute_result",
          "data": {
            "text/html": [
              "<div>\n",
              "<style scoped>\n",
              "    .dataframe tbody tr th:only-of-type {\n",
              "        vertical-align: middle;\n",
              "    }\n",
              "\n",
              "    .dataframe tbody tr th {\n",
              "        vertical-align: top;\n",
              "    }\n",
              "\n",
              "    .dataframe thead th {\n",
              "        text-align: right;\n",
              "    }\n",
              "</style>\n",
              "<table border=\"1\" class=\"dataframe\">\n",
              "  <thead>\n",
              "    <tr style=\"text-align: right;\">\n",
              "      <th></th>\n",
              "      <th>Estatura(metros)</th>\n",
              "      <th>Edad(años)</th>\n",
              "    </tr>\n",
              "  </thead>\n",
              "  <tbody>\n",
              "    <tr>\n",
              "      <th>0</th>\n",
              "      <td>1.77</td>\n",
              "      <td>26</td>\n",
              "    </tr>\n",
              "    <tr>\n",
              "      <th>1</th>\n",
              "      <td>1.74</td>\n",
              "      <td>31</td>\n",
              "    </tr>\n",
              "    <tr>\n",
              "      <th>2</th>\n",
              "      <td>1.72</td>\n",
              "      <td>24</td>\n",
              "    </tr>\n",
              "    <tr>\n",
              "      <th>3</th>\n",
              "      <td>1.78</td>\n",
              "      <td>34</td>\n",
              "    </tr>\n",
              "    <tr>\n",
              "      <th>4</th>\n",
              "      <td>1.65</td>\n",
              "      <td>32</td>\n",
              "    </tr>\n",
              "  </tbody>\n",
              "</table>\n",
              "</div>"
            ],
            "text/plain": [
              "   Estatura(metros)  Edad(años)\n",
              "0              1.77          26\n",
              "1              1.74          31\n",
              "2              1.72          24\n",
              "3              1.78          34\n",
              "4              1.65          32"
            ]
          },
          "metadata": {
            "tags": []
          },
          "execution_count": 2
        }
      ]
    },
    {
      "cell_type": "markdown",
      "metadata": {
        "id": "Rfb9DRbqwcV5",
        "colab_type": "text"
      },
      "source": [
        "Visualización del conjunto de datos de entrenamiento"
      ]
    },
    {
      "cell_type": "code",
      "metadata": {
        "id": "gpkLoiqDwb0W",
        "colab_type": "code",
        "colab": {
          "base_uri": "https://localhost:8080/",
          "height": 265
        },
        "outputId": "02039589-36a2-427d-e65f-cefaeb63ed7c"
      },
      "source": [
        "plt.scatter(df[\"Estatura(metros)\"], df[\"Edad(años)\"])\n",
        "plt.show()"
      ],
      "execution_count": 3,
      "outputs": [
        {
          "output_type": "display_data",
          "data": {
            "image/png": "[encoded data removed]",
            "text/plain": [
              "<Figure size 432x288 with 1 Axes>"
            ]
          },
          "metadata": {
            "tags": [],
            "needs_background": "light"
          }
        }
      ]
    },
    {
      "cell_type": "markdown",
      "metadata": {
        "id": "VDme5fxovpuo",
        "colab_type": "text"
      },
      "source": [
        "Definimos los datos de prueba"
      ]
    },
    {
      "cell_type": "code",
      "metadata": {
        "id": "6ftqQQN0vtYA",
        "colab_type": "code",
        "colab": {
          "base_uri": "https://localhost:8080/",
          "height": 198
        },
        "outputId": "7a191bba-65fd-4a53-c01c-1652b7fa920e"
      },
      "source": [
        "df_test = pd.read_excel('/content/drive/My Drive/Estaturas.xlsx', sheet_name=1, index_col=False)\n",
        "df_test.head()"
      ],
      "execution_count": 4,
      "outputs": [
        {
          "output_type": "execute_result",
          "data": {
            "text/html": [
              "<div>\n",
              "<style scoped>\n",
              "    .dataframe tbody tr th:only-of-type {\n",
              "        vertical-align: middle;\n",
              "    }\n",
              "\n",
              "    .dataframe tbody tr th {\n",
              "        vertical-align: top;\n",
              "    }\n",
              "\n",
              "    .dataframe thead th {\n",
              "        text-align: right;\n",
              "    }\n",
              "</style>\n",
              "<table border=\"1\" class=\"dataframe\">\n",
              "  <thead>\n",
              "    <tr style=\"text-align: right;\">\n",
              "      <th></th>\n",
              "      <th>Estatura(metros)</th>\n",
              "      <th>Edad(años)</th>\n",
              "    </tr>\n",
              "  </thead>\n",
              "  <tbody>\n",
              "    <tr>\n",
              "      <th>0</th>\n",
              "      <td>1.82</td>\n",
              "      <td>25</td>\n",
              "    </tr>\n",
              "    <tr>\n",
              "      <th>1</th>\n",
              "      <td>1.80</td>\n",
              "      <td>27</td>\n",
              "    </tr>\n",
              "    <tr>\n",
              "      <th>2</th>\n",
              "      <td>1.60</td>\n",
              "      <td>31</td>\n",
              "    </tr>\n",
              "    <tr>\n",
              "      <th>3</th>\n",
              "      <td>1.60</td>\n",
              "      <td>35</td>\n",
              "    </tr>\n",
              "    <tr>\n",
              "      <th>4</th>\n",
              "      <td>1.82</td>\n",
              "      <td>30</td>\n",
              "    </tr>\n",
              "  </tbody>\n",
              "</table>\n",
              "</div>"
            ],
            "text/plain": [
              "   Estatura(metros)  Edad(años)\n",
              "0              1.82          25\n",
              "1              1.80          27\n",
              "2              1.60          31\n",
              "3              1.60          35\n",
              "4              1.82          30"
            ]
          },
          "metadata": {
            "tags": []
          },
          "execution_count": 4
        }
      ]
    },
    {
      "cell_type": "code",
      "metadata": {
        "id": "AIUiHfbrwIbF",
        "colab_type": "code",
        "colab": {
          "base_uri": "https://localhost:8080/",
          "height": 265
        },
        "outputId": "8f234e31-2540-473e-9344-5a1fe48419e2"
      },
      "source": [
        "plt.scatter(df_test[\"Estatura(metros)\"], df_test[\"Edad(años)\"])\n",
        "plt.show()"
      ],
      "execution_count": 5,
      "outputs": [
        {
          "output_type": "display_data",
          "data": {
            "image/png": "[encoded data removed]",
            "text/plain": [
              "<Figure size 432x288 with 1 Axes>"
            ]
          },
          "metadata": {
            "tags": [],
            "needs_background": "light"
          }
        }
      ]
    },
    {
      "cell_type": "code",
      "metadata": {
        "id": "g3GfXeq6E54w",
        "colab_type": "code",
        "colab": {}
      },
      "source": [
        "X = df[[\"Estatura(metros)\", \"Edad(años)\"]].values\n",
        "X_test = df_test[[\"Estatura(metros)\", \"Edad(años)\"]].values"
      ],
      "execution_count": 6,
      "outputs": []
    },
    {
      "cell_type": "markdown",
      "metadata": {
        "id": "5grUokE9wVlw",
        "colab_type": "text"
      },
      "source": [
        "# K-Means"
      ]
    },
    {
      "cell_type": "markdown",
      "metadata": {
        "id": "voA9XM96th6H",
        "colab_type": "text"
      },
      "source": [
        "Se crea una clase para la implementación del algoritmo KMeans, donde también se implementa el cálculo de la distorsión para utilizar el método del codo y elegir heuristicamente el valor de **k**.\n",
        "\n",
        "---"
      ]
    },
    {
      "cell_type": "code",
      "metadata": {
        "id": "cI0RarmsrZZ4",
        "colab_type": "code",
        "colab": {}
      },
      "source": [
        "class Kmeans:\n",
        "  def __init__(self, k):\n",
        "    self.k = k\n",
        "    self.centroids = None\n",
        "    self.distortion = 0.0\n",
        "\n",
        "  def clusters_centroids(self, X):\n",
        "    return X[np.random.randint(X.shape[0], size=self.k)]\n",
        "\n",
        "  def compute_distances(self, X, centroid):\n",
        "    return np.linalg.norm(X - centroid, axis=1)\n",
        "\n",
        "  def fit(self, X):\n",
        "    self.centroids = self.clusters_centroids(X)\n",
        "    clusters = np.zeros(X.shape[0], dtype=np.float64)\n",
        "    distances = np.zeros([X.shape[0], self.k], dtype=np.float64)\n",
        "    for i in range(300):\n",
        "      for i, c in enumerate(self.centroids):\n",
        "        distances[:, i] = self.compute_distances(c, X)\n",
        "\n",
        "      clusters = np.argmin(distances, axis=1)\n",
        "\n",
        "      for c in range(self.k):\n",
        "        self.centroids[c] = np.mean(X[clusters == c], 0)\n",
        "\n",
        "      self.distortion = sum(np.min(cdist(X, self.centroids, 'euclidean'), \n",
        "                                   axis=1)) / X.shape[0]\n",
        "\n",
        "  def get_clusters(self, X):\n",
        "    distances = np.zeros([X.shape[0], self.k], dtype=np.float64)\n",
        "    for i, c in enumerate(self.centroids):\n",
        "        distances[:, i] = self.compute_distances(c, X)\n",
        "\n",
        "    return np.argmin(distances, axis=1)"
      ],
      "execution_count": 7,
      "outputs": []
    },
    {
      "cell_type": "markdown",
      "metadata": {
        "id": "Fq2ozUxJt5e5",
        "colab_type": "text"
      },
      "source": [
        "Gráfica de las distorsiones. Se puede observar que según el método del codo se tiene un valor *optimo* para **k=2**."
      ]
    },
    {
      "cell_type": "code",
      "metadata": {
        "id": "nu0VkvvLsOZZ",
        "colab_type": "code",
        "colab": {
          "base_uri": "https://localhost:8080/",
          "height": 295
        },
        "outputId": "db0e04eb-c905-4d20-a64d-9154f97c8097"
      },
      "source": [
        "#Ejecutamos 5 experimentos con k distinto para poder utilizar el metodo del codo\n",
        "distortions = []\n",
        "K = range(1,6)\n",
        "for k in K:\n",
        "  model = Kmeans(k)\n",
        "  model.fit(X)\n",
        "  distortions.append(model.distortion)\n",
        "\n",
        "# Plot the elbow\n",
        "plt.plot(K, distortions, 'bx-')\n",
        "plt.xlabel('k')\n",
        "plt.ylabel('Distortion')\n",
        "plt.title('Grafica del método del codo')\n",
        "plt.show()"
      ],
      "execution_count": 11,
      "outputs": [
        {
          "output_type": "display_data",
          "data": {
            "image/png": "[encoded data removed]",
            "text/plain": [
              "<Figure size 432x288 with 1 Axes>"
            ]
          },
          "metadata": {
            "tags": [],
            "needs_background": "light"
          }
        }
      ]
    },
    {
      "cell_type": "markdown",
      "metadata": {
        "id": "_oTqtENHuKMB",
        "colab_type": "text"
      },
      "source": [
        "Obtenemos los centroides para el valor de k=2."
      ]
    },
    {
      "cell_type": "code",
      "metadata": {
        "id": "7w-xTiA-uPFq",
        "colab_type": "code",
        "colab": {}
      },
      "source": [
        "kmean_model = Kmeans(k=2)\n",
        "kmean_model.fit(X)\n",
        "centroids = kmean_model.centroids\n",
        "clusters = kmean_model.get_clusters(X)"
      ],
      "execution_count": 9,
      "outputs": []
    },
    {
      "cell_type": "markdown",
      "metadata": {
        "id": "2IvKjx2pvfWC",
        "colab_type": "text"
      },
      "source": [
        "Visualizamos los datos obtenidos"
      ]
    },
    {
      "cell_type": "code",
      "metadata": {
        "id": "JnjdP6k8BDIZ",
        "colab_type": "code",
        "colab": {
          "base_uri": "https://localhost:8080/",
          "height": 281
        },
        "outputId": "213483ed-65b7-4964-f52d-386c05e6c7d0"
      },
      "source": [
        "group_colors = ['blue', 'green']\n",
        "colors = [group_colors[j] for j in clusters]\n",
        "\n",
        "fig, ax = plt.subplots(figsize=(4,4))\n",
        "ax.scatter(X[:,0], X[:,1], color=colors, alpha=0.5)\n",
        "ax.scatter(centroids[:,0], centroids[:,1], color=group_colors, marker='x', lw=2)\n",
        "ax.set_xlabel('$x_0$')\n",
        "ax.set_ylabel('$x_1$');"
      ],
      "execution_count": 10,
      "outputs": [
        {
          "output_type": "display_data",
          "data": {
            "image/png": "[encoded data removed]",
            "text/plain": [
              "<Figure size 288x288 with 1 Axes>"
            ]
          },
          "metadata": {
            "tags": [],
            "needs_background": "light"
          }
        }
      ]
    },
    {
      "cell_type": "markdown",
      "metadata": {
        "id": "WTirCCv89PuN",
        "colab_type": "text"
      },
      "source": [
        "Aplicamos el modelo al set de pruebas y graficamos el resultado."
      ]
    },
    {
      "cell_type": "code",
      "metadata": {
        "id": "6D_XI-_f9PZO",
        "colab_type": "code",
        "colab": {
          "base_uri": "https://localhost:8080/",
          "height": 281
        },
        "outputId": "97c1e442-9c06-40e1-a4a0-7ddd997b7e3e"
      },
      "source": [
        "clusters_test = kmean_model.get_clusters(X_test)\n",
        "group_colors = ['blue', 'green']\n",
        "colors = [group_colors[j] for j in clusters_test]\n",
        "\n",
        "fig, ax = plt.subplots(figsize=(4,4))\n",
        "ax.scatter(X_test[:,0], X_test[:,1], color=colors, alpha=0.5)\n",
        "ax.scatter(centroids[:,0], centroids[:,1], color=group_colors, marker='x', lw=2)\n",
        "ax.set_xlabel('$x_0$')\n",
        "ax.set_ylabel('$x_1$');\n"
      ],
      "execution_count": 12,
      "outputs": [
        {
          "output_type": "display_data",
          "data": {
            "image/png": "[encoded data removed]",
            "text/plain": [
              "<Figure size 288x288 with 1 Axes>"
            ]
          },
          "metadata": {
            "tags": [],
            "needs_background": "light"
          }
        }
      ]
    },
    {
      "cell_type": "markdown",
      "metadata": {
        "id": "cacNrWikxFQi",
        "colab_type": "text"
      },
      "source": [
        "# Gaussian Mixture Models"
      ]
    },
    {
      "cell_type": "markdown",
      "metadata": {
        "id": "mBrq6JCuxI1z",
        "colab_type": "text"
      },
      "source": [
        "Se utilizara el algoritmo GMM que viene con el paquete scikit-learn."
      ]
    },
    {
      "cell_type": "code",
      "metadata": {
        "id": "iea-MOQp-22O",
        "colab_type": "code",
        "colab": {
          "base_uri": "https://localhost:8080/",
          "height": 265
        },
        "outputId": "f3a12473-031d-4ceb-f2ad-fc42e22f48e9"
      },
      "source": [
        "from sklearn import mixture\n",
        "\n",
        "gmm = mixture.GaussianMixture(n_components=2).fit(X)\n",
        "labels = gmm.predict(X)\n",
        "plt.scatter(X[:, 0], X[:, 1], c=labels, s=40, cmap='viridis');"
      ],
      "execution_count": 17,
      "outputs": [
        {
          "output_type": "display_data",
          "data": {
            "image/png": "[encoded data removed]",
            "text/plain": [
              "<Figure size 432x288 with 1 Axes>"
            ]
          },
          "metadata": {
            "tags": [],
            "needs_background": "light"
          }
        }
      ]
    },
    {
      "cell_type": "markdown",
      "metadata": {
        "id": "LZeI671zBYRr",
        "colab_type": "text"
      },
      "source": [
        "Clustering con datos de prueba y modelo GMM."
      ]
    },
    {
      "cell_type": "code",
      "metadata": {
        "id": "5Y9yneOHBcvu",
        "colab_type": "code",
        "colab": {
          "base_uri": "https://localhost:8080/",
          "height": 265
        },
        "outputId": "76222175-3ab5-4056-90d9-f0210d19de20"
      },
      "source": [
        "labels = gmm.predict(X_test)\n",
        "plt.scatter(X_test[:, 0], X_test[:, 1], c=labels, s=40, cmap='viridis');"
      ],
      "execution_count": 20,
      "outputs": [
        {
          "output_type": "display_data",
          "data": {
            "image/png": "[encoded data removed]",
            "text/plain": [
              "<Figure size 432x288 with 1 Axes>"
            ]
          },
          "metadata": {
            "tags": [],
            "needs_background": "light"
          }
        }
      ]
    },
    {
      "cell_type": "markdown",
      "metadata": {
        "id": "-FGNV8ddAuEb",
        "colab_type": "text"
      },
      "source": [
        "Mostrar la matriz de probabilidades para los datos de prueba."
      ]
    },
    {
      "cell_type": "code",
      "metadata": {
        "id": "rVct-SUSAtjr",
        "colab_type": "code",
        "colab": {
          "base_uri": "https://localhost:8080/",
          "height": 113
        },
        "outputId": "9cda71b8-918d-4a95-98d4-e8b223ff9db3"
      },
      "source": [
        "probs = gmm.predict_proba(X_test)\n",
        "print(probs[:5].round(3))"
      ],
      "execution_count": 19,
      "outputs": [
        {
          "output_type": "stream",
          "text": [
            "[[1.    0.   ]\n",
            " [0.989 0.011]\n",
            " [0.627 0.373]\n",
            " [0.002 0.998]\n",
            " [0.182 0.818]]\n"
          ],
          "name": "stdout"
        }
      ]
    },
    {
      "cell_type": "markdown",
      "metadata": {
        "id": "ORCpOo2ICBtb",
        "colab_type": "text"
      },
      "source": [
        "# Conclusiones"
      ]
    },
    {
      "cell_type": "markdown",
      "metadata": {
        "id": "Y0c45tGFCFi1",
        "colab_type": "text"
      },
      "source": [
        "\n",
        "\n",
        "*   Para la distribución de datos dados el método del codo me parece adecuado, como se observa en la gráfica es evidente una separación entre los clusters y si se agregaran mas quedarían muy juntos.\n",
        "*   A diferencia de KMeans el modelo GMM es capaz de implementar clusters no necesariamente circulares sino también elipticos y diagonales lo que hace más flexible para trabajar con distribuciones complejas.\n",
        "*   Al aplicar ambos modelos al conjunto de pruebas hay 2 observaciones que difieren en ambos enfoques, podría tratarse de una anomalía. Pienso que sería útil definir un \"Threshold\" de distancia o probabilidad que nos ayude a la detección de anomalías en la clasificación de los clusters.\n",
        "*   Considero que el conjunto de datos se puede clasificar en dos clusters distintos.\n",
        "\n"
      ]
    }
  ]
}