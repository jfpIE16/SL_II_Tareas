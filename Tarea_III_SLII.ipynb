{
  "nbformat": 4,
  "nbformat_minor": 0,
  "metadata": {
    "colab": {
      "name": "Tarea-III-SLII.ipynb",
      "provenance": [],
      "authorship_tag": "ABX9TyNmzilzWS0P6iR2mYnVXEvh",
      "include_colab_link": true
    },
    "kernelspec": {
      "name": "python3",
      "display_name": "Python 3"
    }
  },
  "cells": [
    {
      "cell_type": "markdown",
      "metadata": {
        "id": "view-in-github",
        "colab_type": "text"
      },
      "source": [
        "<a href=\"https://colab.research.google.com/github/jfpIE16/SL_II_Tareas/blob/master/Tarea_III_SLII.ipynb\" target=\"_parent\"><img src=\"https://colab.research.google.com/assets/colab-badge.svg\" alt=\"Open In Colab\"/></a>"
      ]
    },
    {
      "cell_type": "markdown",
      "metadata": {
        "id": "pd199IyzYfDT",
        "colab_type": "text"
      },
      "source": [
        "## Statistical Learning II\n",
        "## Tarea 3: Maldición de dimensionalidad\n",
        "\n",
        "---\n",
        "\n",
        "José Fernando Pérez Pérez  \n",
        "josefernando.perez@galileo.edu\n"
      ]
    },
    {
      "cell_type": "code",
      "metadata": {
        "id": "yqFuHt_PYLyu",
        "colab_type": "code",
        "colab": {}
      },
      "source": [
        "from sklearn.preprocessing import PolynomialFeatures\n",
        "import numpy as np\n",
        "from tabulate import tabulate"
      ],
      "execution_count": 6,
      "outputs": []
    },
    {
      "cell_type": "markdown",
      "metadata": {
        "id": "Aaiu7381eyVR",
        "colab_type": "text"
      },
      "source": [
        "Se propone la utilización de tres conjuntos de datos los cuales representan el caso de 1, 2 y 3 variables de la siguiente forma:  \n",
        "\n",
        "\n",
        "*   $a$ $\\rightarrow$ 1 variable\n",
        "*   $a,b$ $\\rightarrow$ 2 variables\n",
        "*   $a,b,c$ $\\rightarrow$ 3 variables\n",
        "\n",
        "\n"
      ]
    },
    {
      "cell_type": "code",
      "metadata": {
        "id": "Tg38DELHbNad",
        "colab_type": "code",
        "colab": {}
      },
      "source": [
        "X_1d = np.random.randn(5,1)\n",
        "X_2d = np.random.randn(5,2)\n",
        "X_3d = np.random.randn(5,3)"
      ],
      "execution_count": 18,
      "outputs": []
    },
    {
      "cell_type": "markdown",
      "metadata": {
        "id": "6B5RQvklfGL9",
        "colab_type": "text"
      },
      "source": [
        "Utilizando un polinomio de grado 3 se esperarían las siguientes características (incluyendo el sesgo):  "
      ]
    },
    {
      "cell_type": "code",
      "metadata": {
        "id": "WL2jvFoOhiRS",
        "colab_type": "code",
        "colab": {}
      },
      "source": [
        "poly_d3 = PolynomialFeatures(degree=3)"
      ],
      "execution_count": 27,
      "outputs": []
    },
    {
      "cell_type": "markdown",
      "metadata": {
        "id": "LEtVNGiVhIO7",
        "colab_type": "text"
      },
      "source": [
        "**1 Variable**  \n",
        "$1,a,a²,a³$  \n",
        "En total 3 características, incluyendo el sesgo"
      ]
    },
    {
      "cell_type": "code",
      "metadata": {
        "id": "sS6l5G4CfF4o",
        "colab_type": "code",
        "colab": {
          "base_uri": "https://localhost:8080/",
          "height": 153
        },
        "outputId": "2bd346f5-f472-480c-ee8e-78e4bb00c67e"
      },
      "source": [
        "X_t1 = poly_d3.fit_transform(X_1d)\n",
        "print(tabulate(X_t1))\n",
        "print(X_t1.shape)"
      ],
      "execution_count": 32,
      "outputs": [
        {
          "output_type": "stream",
          "text": [
            "-  ---------  --------  ----------\n",
            "1  -0.749174  0.561262  -0.420482\n",
            "1   0.364615  0.132944   0.0484733\n",
            "1  -0.964034  0.929362  -0.895937\n",
            "1  -1.25326   1.57066   -1.96844\n",
            "1  -0.348301  0.121314  -0.0422537\n",
            "-  ---------  --------  ----------\n",
            "(5, 4)\n"
          ],
          "name": "stdout"
        }
      ]
    },
    {
      "cell_type": "markdown",
      "metadata": {
        "id": "PxopDjENhZWI",
        "colab_type": "text"
      },
      "source": [
        "**2 Variables**  \n",
        "$1,a³,b³,a²b,ab²,a²,b²,ab,a,b$  \n",
        "En total 10 características incluyendo el sesgo"
      ]
    },
    {
      "cell_type": "code",
      "metadata": {
        "id": "5LtNNtBGiGZT",
        "colab_type": "code",
        "colab": {
          "base_uri": "https://localhost:8080/",
          "height": 153
        },
        "outputId": "d1d78288-c31d-49a0-b110-1c02f82943ff"
      },
      "source": [
        "X_t2 = poly_d3.fit_transform(X_2d)\n",
        "print(tabulate(X_t2))\n",
        "print(X_t2.shape)"
      ],
      "execution_count": 31,
      "outputs": [
        {
          "output_type": "stream",
          "text": [
            "-  ----------  ---------  ----------  ----------  ---------  -----------  -----------  ---------  ----------\n",
            "1  -0.0903611   0.61555   0.00816513  -0.0556218  0.378901   -0.00073781   0.00502604  -0.034238   0.233233\n",
            "1  -1.29415     0.502068  1.67481     -0.649749   0.252072   -2.16745      0.840869    -0.326218   0.126557\n",
            "1   0.712157    0.269028  0.507168     0.19159    0.0723759   0.361183     0.136442     0.051543   0.0194711\n",
            "1   0.216875   -1.5687    0.0470348   -0.340211   2.46081     0.0102007   -0.0737834    0.533688  -3.86026\n",
            "1   0.328835   -0.521553  0.108133    -0.171505   0.272018    0.0355579   -0.0563969    0.089449  -0.141872\n",
            "-  ----------  ---------  ----------  ----------  ---------  -----------  -----------  ---------  ----------\n",
            "(5, 10)\n"
          ],
          "name": "stdout"
        }
      ]
    },
    {
      "cell_type": "markdown",
      "metadata": {
        "id": "GUXkwfAdk5Ca",
        "colab_type": "text"
      },
      "source": [
        "**3 Variables**  \n",
        "$1,a³,b³,c³,abc,a²b,a²c,...,a,b,c$  \n",
        "Y no seguimos porque en total son 20 características generadas"
      ]
    },
    {
      "cell_type": "code",
      "metadata": {
        "id": "s39e1DBjlRMt",
        "colab_type": "code",
        "colab": {
          "base_uri": "https://localhost:8080/",
          "height": 173
        },
        "outputId": "4139a411-b5a4-473c-eb67-955fbc625f77"
      },
      "source": [
        "X_t3 = poly_d3.fit_transform(X_3d)\n",
        "print(tabulate(X_t3))\n",
        "print(X_t3.shape)"
      ],
      "execution_count": 30,
      "outputs": [
        {
          "output_type": "stream",
          "text": [
            "-  ---------  ---------  ---------  ---------  ---------  ---------  --------  --------  ---------  ------------  -----------  ---------  ----------  ---------  ----------  ---------  ---------  ----------  -----------\n",
            "1   0.844329  -0.680211  -0.342085  0.712891   -0.574322  -0.288832  0.462688  0.23269   0.117022     0.601915     -0.484917   -0.243869    0.390661   0.196467   0.0988049  -0.314725  -0.158278  -0.0795996  -0.0400314\n",
            "1  -0.145655   1.37412    0.59735   0.0212154  -0.200148  -0.087007  1.88821   0.820832  0.356827    -0.00309012    0.0291525   0.012673   -0.275028  -0.119558  -0.0519736   2.59464    1.12792    0.490324    0.21315\n",
            "1  -2.69776    0.828904   1.01196   7.2779     -2.23618   -2.73002   0.687081  0.838818  1.02406    -19.634         6.03268     7.36495    -1.85358   -2.26293   -2.76268     0.569524   0.695299   0.84885     1.03631\n",
            "1  -2.73186   -2.08873   -0.919185  7.46308     5.70611    2.51109   4.36277   1.91992   0.8449     -20.3881      -15.5883     -6.85995   -11.9185    -5.24497   -2.30815    -9.11263   -4.01019   -1.76476    -0.776619\n",
            "1  -1.15595    0.888481   0.192102  1.33621    -1.02704   -0.222059  0.789399  0.170679  0.0369031   -1.54459       1.1872      0.256689   -0.912504  -0.197296  -0.042658    0.701366   0.151645   0.0327877   0.00708915\n",
            "-  ---------  ---------  ---------  ---------  ---------  ---------  --------  --------  ---------  ------------  -----------  ---------  ----------  ---------  ----------  ---------  ---------  ----------  -----------\n",
            "(5, 20)\n"
          ],
          "name": "stdout"
        }
      ]
    },
    {
      "cell_type": "markdown",
      "metadata": {
        "id": "DDYDSxAGlodk",
        "colab_type": "text"
      },
      "source": [
        "**¡Por curiosidad!**  \n",
        "¿Cuál sería la cantidad de features generadas por un polinomio de grado 3 para un dataset con 200 características de entrada? Los modelos actuales tienen cientos de miles de características, incluso millones como **GTP-3**"
      ]
    },
    {
      "cell_type": "code",
      "metadata": {
        "id": "I2xdaJZsmBtE",
        "colab_type": "code",
        "colab": {
          "base_uri": "https://localhost:8080/",
          "height": 34
        },
        "outputId": "730f4932-304d-4095-87e0-384fd03e64c6"
      },
      "source": [
        "X_200d = np.random.randn(5,200)\n",
        "X_t200 = poly_d3.fit_transform(X_200d)\n",
        "#print(tabulate(X_t3)) casi, jeje!\n",
        "print(X_t200.shape)"
      ],
      "execution_count": 34,
      "outputs": [
        {
          "output_type": "stream",
          "text": [
            "(5, 1373701)\n"
          ],
          "name": "stdout"
        }
      ]
    },
    {
      "cell_type": "markdown",
      "metadata": {
        "id": "KAH_URITmdMj",
        "colab_type": "text"
      },
      "source": [
        "¡1,373,701! características"
      ]
    },
    {
      "cell_type": "markdown",
      "metadata": {
        "id": "0TvSFVAAlmKx",
        "colab_type": "text"
      },
      "source": [
        "**Conclusiones**  \n",
        "Como se observa, al aumentar tanto las características de entrada como el grado del polinomio observamos un crecimiento exponencial en nuestro conjunto de datos. Aquí radica la importancia de realizar feature engineering como parte necesaria en las aplicaciones de Data Science, sin embargo, optimizar las técnicas de **feature-engineering** siempre van de la mano de la descripción del problema y la familiaridad que el científico de datos tenga con el mismo; podría tomar semanas o meses seleccionar las características y transformaciones correctas que ayuden al algoritmo a converger a una solución.  \n",
        "Y en esta parte me resulta muy interesante saber que como parte del entrenamiento de algoritmos de **deep learning** se aprenden las características y aplican transformaciones al conjunto de datos que ayuden a resolver el problema de manera automática, claro dependiendo de la cantidad de datos y complejidad de los mismos se puede discutir el costo computacional que esto lleva."
      ]
    }
  ]
}